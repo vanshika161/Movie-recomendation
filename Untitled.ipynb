{
 "cells": [
  {
   "cell_type": "code",
   "execution_count": 1,
   "id": "8dc3dd04",
   "metadata": {},
   "outputs": [],
   "source": [
    "#Step 1: Import the necessary libraries and explain their importance (e.g., pandas for data manipulation, sklearn for machine learning).\n",
    "#Step 2: Show how you load and merge datasets, preparing the data for analysis.\n",
    "#Step 3: Perform EDA to identify patterns in the data, such as which movies are popular.\n",
    "#Step 4: Discuss the user-movie matrix and how missing ratings are handled.\n",
    "#Step 5: Explain cosine similarity and why it's used to compare movie profiles.\n",
    "#Step 6: Highlight the recommendation logic based on movie similarity, providing an example.\n"
   ]
  },
  {
   "cell_type": "code",
   "execution_count": 2,
   "id": "ca0e393a",
   "metadata": {},
   "outputs": [],
   "source": [
    "# Importing required libraries\n",
    "import pandas as pd\n",
    "import numpy as np\n",
    "from sklearn.metrics.pairwise import cosine_similarity\n",
    "from sklearn.model_selection import train_test_split\n",
    "import matplotlib.pyplot as plt\n",
    "import seaborn as sns\n"
   ]
  },
  {
   "cell_type": "code",
   "execution_count": 3,
   "id": "1bec94f3",
   "metadata": {},
   "outputs": [],
   "source": [
    "# Load datasets\n",
    "movies = pd.read_csv('movies.csv')\n",
    "ratings = pd.read_csv('ratings.csv')\n"
   ]
  },
  {
   "cell_type": "code",
   "execution_count": 4,
   "id": "fbcc8f82",
   "metadata": {},
   "outputs": [
    {
     "name": "stdout",
     "output_type": "stream",
     "text": [
      "   movieId                               title                      genres\n",
      "0        1                    Toy Story (1995)   Animation|Children|Comedy\n",
      "1        2                      Jumanji (1995)  Adventure|Children|Fantasy\n",
      "2        3             Grumpier Old Men (1995)              Comedy|Romance\n",
      "3        4            Waiting to Exhale (1995)        Comedy|Drama|Romance\n",
      "4        5  Father of the Bride Part II (1995)                      Comedy\n",
      "   userId  movieId  rating  timestamp\n",
      "0       1        1     4.0  964982703\n",
      "1       1        2     4.0  964982224\n",
      "2       1        3     3.0  964983815\n",
      "3       2        1     5.0  964982931\n",
      "4       2        4     3.0  964982400\n",
      "movieId    0\n",
      "title      0\n",
      "genres     0\n",
      "dtype: int64\n",
      "userId       0\n",
      "movieId      0\n",
      "rating       0\n",
      "timestamp    0\n",
      "dtype: int64\n"
     ]
    }
   ],
   "source": [
    "# Check first few rows of the datasets\n",
    "print(movies.head())\n",
    "print(ratings.head())\n",
    "\n",
    "# Check for missing values\n",
    "print(movies.isnull().sum())\n",
    "print(ratings.isnull().sum())\n"
   ]
  },
  {
   "cell_type": "code",
   "execution_count": 5,
   "id": "586a6545",
   "metadata": {},
   "outputs": [
    {
     "name": "stdout",
     "output_type": "stream",
     "text": [
      "   userId  movieId  rating  timestamp                     title  \\\n",
      "0       1        1     4.0  964982703          Toy Story (1995)   \n",
      "1       2        1     5.0  964982931          Toy Story (1995)   \n",
      "2       1        2     4.0  964982224            Jumanji (1995)   \n",
      "3       1        3     3.0  964983815   Grumpier Old Men (1995)   \n",
      "4       2        4     3.0  964982400  Waiting to Exhale (1995)   \n",
      "\n",
      "                       genres  \n",
      "0   Animation|Children|Comedy  \n",
      "1   Animation|Children|Comedy  \n",
      "2  Adventure|Children|Fantasy  \n",
      "3              Comedy|Romance  \n",
      "4        Comedy|Drama|Romance  \n"
     ]
    }
   ],
   "source": [
    "# Merging movies and ratings data on 'movieId'\n",
    "merged_df = pd.merge(ratings, movies, on='movieId')\n",
    "print(merged_df.head())\n"
   ]
  },
  {
   "cell_type": "code",
   "execution_count": 6,
   "id": "68f54440",
   "metadata": {},
   "outputs": [
    {
     "data": {
      "image/png": "[encoded data removed]",
      "text/plain": [
       "<Figure size 720x432 with 1 Axes>"
      ]
     },
     "metadata": {
      "needs_background": "light"
     },
     "output_type": "display_data"
    }
   ],
   "source": [
    "# Plot the number of ratings per movie\n",
    "plt.figure(figsize=(10,6))\n",
    "merged_df['title'].value_counts().head(10).plot(kind='bar', color='skyblue')\n",
    "plt.title('Top 10 most rated movies')\n",
    "plt.show()\n"
   ]
  },
  {
   "cell_type": "code",
   "execution_count": 7,
   "id": "9a4fedc9",
   "metadata": {},
   "outputs": [
    {
     "name": "stdout",
     "output_type": "stream",
     "text": [
      "title   Grumpier Old Men (1995)  Jumanji (1995)  Toy Story (1995)  \\\n",
      "userId                                                              \n",
      "1                           3.0             4.0               4.0   \n",
      "2                           NaN             NaN               5.0   \n",
      "\n",
      "title   Waiting to Exhale (1995)  \n",
      "userId                            \n",
      "1                            NaN  \n",
      "2                            3.0  \n"
     ]
    }
   ],
   "source": [
    "# Create a user-movie matrix (pivot table)\n",
    "user_movie_matrix = merged_df.pivot_table(index='userId', columns='title', values='rating')\n",
    "print(user_movie_matrix.head())\n",
    "\n"
   ]
  },
  {
   "cell_type": "code",
   "execution_count": 8,
   "id": "66793241",
   "metadata": {},
   "outputs": [],
   "source": [
    "# Fill NaN with 0s (since a user didn't rate those movies)\n",
    "user_movie_matrix.fillna(0, inplace=True)\n"
   ]
  },
  {
   "cell_type": "code",
   "execution_count": 9,
   "id": "ed139fb5",
   "metadata": {},
   "outputs": [
    {
     "name": "stdout",
     "output_type": "stream",
     "text": [
      "(4, 4)\n"
     ]
    }
   ],
   "source": [
    "# Compute the cosine similarity between movies\n",
    "movie_similarity = cosine_similarity(user_movie_matrix.T)\n",
    "print(movie_similarity.shape)\n"
   ]
  },
  {
   "cell_type": "code",
   "execution_count": 10,
   "id": "3b1b49d4",
   "metadata": {},
   "outputs": [
    {
     "name": "stdout",
     "output_type": "stream",
     "text": [
      "title\n",
      "Waiting to Exhale (1995)    0.780869\n",
      "Grumpier Old Men (1995)     0.624695\n",
      "Jumanji (1995)              0.624695\n",
      "Name: Toy Story (1995), dtype: float64\n"
     ]
    }
   ],
   "source": [
    "# Create a DataFrame for movie similarity\n",
    "movie_similarity_df = pd.DataFrame(movie_similarity, index=user_movie_matrix.columns, columns=user_movie_matrix.columns)\n",
    "\n",
    "# Function to recommend movies based on similarity\n",
    "def recommend_movies(movie_name, num_recommendations=5):\n",
    "    similar_movies = movie_similarity_df[movie_name].sort_values(ascending=False)[1:num_recommendations+1]\n",
    "    return similar_movies\n",
    "\n",
    "# Test the function\n",
    "print(recommend_movies('Toy Story (1995)', 5))\n"
   ]
  },
  {
   "cell_type": "code",
   "execution_count": null,
   "id": "654f8dfa",
   "metadata": {},
   "outputs": [],
   "source": []
  }
 ],
 "metadata": {
  "kernelspec": {
   "display_name": "Python 3",
   "language": "python",
   "name": "python3"
  },
  "language_info": {
   "codemirror_mode": {
    "name": "ipython",
    "version": 3
   },
   "file_extension": ".py",
   "mimetype": "text/x-python",
   "name": "python",
   "nbconvert_exporter": "python",
   "pygments_lexer": "ipython3",
   "version": "3.8.8"
  }
 },
 "nbformat": 4,
 "nbformat_minor": 5
}
